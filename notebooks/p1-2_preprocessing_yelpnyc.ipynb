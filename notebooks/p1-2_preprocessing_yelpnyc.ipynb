{
 "cells": [
  {
   "cell_type": "markdown",
   "id": "e14ba8ec-cf4c-4ebf-97d9-2043041bc6d6",
   "metadata": {},
   "source": [
    "# Preprocessing YelpNYC"
   ]
  },
  {
   "cell_type": "code",
   "execution_count": 1,
   "id": "7077c4f9-9ec2-4706-b505-d0b963611d09",
   "metadata": {},
   "outputs": [],
   "source": [
    "# Set dataset name variable\n",
    "ds_name = \"YelpNYC\""
   ]
  },
  {
   "cell_type": "markdown",
   "id": "baa88f0e-1602-45dc-ad5c-e9d61f6621c6",
   "metadata": {},
   "source": [
    "## Import libraries"
   ]
  },
  {
   "cell_type": "code",
   "execution_count": 2,
   "id": "8eb10849-ad07-445c-a27c-76a625f0efb8",
   "metadata": {
    "ExecuteTime": {
     "end_time": "2024-01-08T06:59:27.756892Z",
     "start_time": "2024-01-08T06:59:27.126223Z"
    }
   },
   "outputs": [],
   "source": [
    "# Import libraries\n",
    "import numpy as np # For numerical processing\n",
    "import pandas as pd # For dataframe processing\n",
    "from datetime import datetime # For date processing"
   ]
  },
  {
   "cell_type": "markdown",
   "id": "65f04185-01de-410b-810b-217204b96e74",
   "metadata": {},
   "source": [
    "## Process review metadata"
   ]
  },
  {
   "cell_type": "markdown",
   "id": "854b28a1-bbd5-46f2-8eeb-b9e774a1acca",
   "metadata": {},
   "source": [
    "### Read review metadata"
   ]
  },
  {
   "cell_type": "code",
   "execution_count": 3,
   "id": "d165bc8aa221857c",
   "metadata": {
    "ExecuteTime": {
     "end_time": "2024-01-08T02:18:08.761607Z",
     "start_time": "2024-01-08T02:18:08.387370Z"
    },
    "collapsed": false,
    "jupyter": {
     "outputs_hidden": false
    },
    "scrolled": true
   },
   "outputs": [
    {
     "data": {
      "text/html": [
       "<div>\n",
       "<style scoped>\n",
       "    .dataframe tbody tr th:only-of-type {\n",
       "        vertical-align: middle;\n",
       "    }\n",
       "\n",
       "    .dataframe tbody tr th {\n",
       "        vertical-align: top;\n",
       "    }\n",
       "\n",
       "    .dataframe thead th {\n",
       "        text-align: right;\n",
       "    }\n",
       "</style>\n",
       "<table border=\"1\" class=\"dataframe\">\n",
       "  <thead>\n",
       "    <tr style=\"text-align: right;\">\n",
       "      <th></th>\n",
       "      <th>user</th>\n",
       "      <th>product</th>\n",
       "      <th>rating</th>\n",
       "      <th>label</th>\n",
       "      <th>date</th>\n",
       "    </tr>\n",
       "  </thead>\n",
       "  <tbody>\n",
       "    <tr>\n",
       "      <th>0</th>\n",
       "      <td>923</td>\n",
       "      <td>0</td>\n",
       "      <td>3.0</td>\n",
       "      <td>-1</td>\n",
       "      <td>2014-12-08</td>\n",
       "    </tr>\n",
       "    <tr>\n",
       "      <th>1</th>\n",
       "      <td>924</td>\n",
       "      <td>0</td>\n",
       "      <td>3.0</td>\n",
       "      <td>-1</td>\n",
       "      <td>2013-05-16</td>\n",
       "    </tr>\n",
       "    <tr>\n",
       "      <th>2</th>\n",
       "      <td>925</td>\n",
       "      <td>0</td>\n",
       "      <td>4.0</td>\n",
       "      <td>-1</td>\n",
       "      <td>2013-07-01</td>\n",
       "    </tr>\n",
       "    <tr>\n",
       "      <th>3</th>\n",
       "      <td>926</td>\n",
       "      <td>0</td>\n",
       "      <td>4.0</td>\n",
       "      <td>-1</td>\n",
       "      <td>2011-07-28</td>\n",
       "    </tr>\n",
       "    <tr>\n",
       "      <th>4</th>\n",
       "      <td>927</td>\n",
       "      <td>0</td>\n",
       "      <td>4.0</td>\n",
       "      <td>-1</td>\n",
       "      <td>2010-11-01</td>\n",
       "    </tr>\n",
       "  </tbody>\n",
       "</table>\n",
       "</div>"
      ],
      "text/plain": [
       "   user  product  rating  label        date\n",
       "0   923        0     3.0     -1  2014-12-08\n",
       "1   924        0     3.0     -1  2013-05-16\n",
       "2   925        0     4.0     -1  2013-07-01\n",
       "3   926        0     4.0     -1  2011-07-28\n",
       "4   927        0     4.0     -1  2010-11-01"
      ]
     },
     "execution_count": 3,
     "metadata": {},
     "output_type": "execute_result"
    }
   ],
   "source": [
    "# Read in review metadata \n",
    "df_meta = pd.read_csv(\"../datasets/raw/{0}/metadata\".format(ds_name), sep=\"\\t\", header=None)\n",
    "df_meta.columns = [\"user\", \"product\", \"rating\", \"label\", \"date\"]\n",
    "df_meta.head()"
   ]
  },
  {
   "cell_type": "code",
   "execution_count": 4,
   "id": "23d8b91c-b57c-458e-aeb3-82561eace4b8",
   "metadata": {},
   "outputs": [
    {
     "name": "stdout",
     "output_type": "stream",
     "text": [
      "<class 'pandas.core.frame.DataFrame'>\n",
      "RangeIndex: 359052 entries, 0 to 359051\n",
      "Data columns (total 5 columns):\n",
      " #   Column   Non-Null Count   Dtype  \n",
      "---  ------   --------------   -----  \n",
      " 0   user     359052 non-null  int64  \n",
      " 1   product  359052 non-null  int64  \n",
      " 2   rating   359052 non-null  float64\n",
      " 3   label    359052 non-null  int64  \n",
      " 4   date     359052 non-null  object \n",
      "dtypes: float64(1), int64(3), object(1)\n",
      "memory usage: 13.7+ MB\n"
     ]
    }
   ],
   "source": [
    "# Print dataframe information\n",
    "df_meta.info()"
   ]
  },
  {
   "cell_type": "markdown",
   "id": "a85a190f-9fdb-408d-870f-a85356d835c4",
   "metadata": {},
   "source": [
    "### Normalize data"
   ]
  },
  {
   "cell_type": "code",
   "execution_count": 5,
   "id": "cffe7af2f7c8ab6",
   "metadata": {
    "collapsed": false,
    "jupyter": {
     "outputs_hidden": false
    }
   },
   "outputs": [
    {
     "data": {
      "text/html": [
       "<div>\n",
       "<style scoped>\n",
       "    .dataframe tbody tr th:only-of-type {\n",
       "        vertical-align: middle;\n",
       "    }\n",
       "\n",
       "    .dataframe tbody tr th {\n",
       "        vertical-align: top;\n",
       "    }\n",
       "\n",
       "    .dataframe thead th {\n",
       "        text-align: right;\n",
       "    }\n",
       "</style>\n",
       "<table border=\"1\" class=\"dataframe\">\n",
       "  <thead>\n",
       "    <tr style=\"text-align: right;\">\n",
       "      <th></th>\n",
       "      <th>user</th>\n",
       "      <th>product</th>\n",
       "      <th>rating</th>\n",
       "      <th>label</th>\n",
       "      <th>date</th>\n",
       "    </tr>\n",
       "  </thead>\n",
       "  <tbody>\n",
       "    <tr>\n",
       "      <th>0</th>\n",
       "      <td>923</td>\n",
       "      <td>0</td>\n",
       "      <td>3</td>\n",
       "      <td>fraud</td>\n",
       "      <td>2014-12-08</td>\n",
       "    </tr>\n",
       "    <tr>\n",
       "      <th>1</th>\n",
       "      <td>924</td>\n",
       "      <td>0</td>\n",
       "      <td>3</td>\n",
       "      <td>fraud</td>\n",
       "      <td>2013-05-16</td>\n",
       "    </tr>\n",
       "    <tr>\n",
       "      <th>2</th>\n",
       "      <td>925</td>\n",
       "      <td>0</td>\n",
       "      <td>4</td>\n",
       "      <td>fraud</td>\n",
       "      <td>2013-07-01</td>\n",
       "    </tr>\n",
       "    <tr>\n",
       "      <th>3</th>\n",
       "      <td>926</td>\n",
       "      <td>0</td>\n",
       "      <td>4</td>\n",
       "      <td>fraud</td>\n",
       "      <td>2011-07-28</td>\n",
       "    </tr>\n",
       "    <tr>\n",
       "      <th>4</th>\n",
       "      <td>927</td>\n",
       "      <td>0</td>\n",
       "      <td>4</td>\n",
       "      <td>fraud</td>\n",
       "      <td>2010-11-01</td>\n",
       "    </tr>\n",
       "  </tbody>\n",
       "</table>\n",
       "</div>"
      ],
      "text/plain": [
       "   user  product  rating  label        date\n",
       "0   923        0       3  fraud  2014-12-08\n",
       "1   924        0       3  fraud  2013-05-16\n",
       "2   925        0       4  fraud  2013-07-01\n",
       "3   926        0       4  fraud  2011-07-28\n",
       "4   927        0       4  fraud  2010-11-01"
      ]
     },
     "execution_count": 5,
     "metadata": {},
     "output_type": "execute_result"
    }
   ],
   "source": [
    "# Convert date strings to datetime objects\n",
    "df_meta.date = df_meta.date.apply(lambda value: str(datetime.strptime(value, \"%Y-%m-%d\").date()))  \n",
    "\n",
    "# Convert rating to integer\n",
    "df_meta.rating = df_meta.rating.astype(int)   \n",
    "\n",
    "# Map label to category value\n",
    "df_meta.label = df_meta.label.apply(lambda label: \"fraud\" if label == -1 else \"organic\")\n",
    "\n",
    "df_meta.head()"
   ]
  },
  {
   "cell_type": "markdown",
   "id": "6d368d6f-c26b-4d75-b41c-2f829b4e2944",
   "metadata": {},
   "source": [
    "## Process review content"
   ]
  },
  {
   "cell_type": "markdown",
   "id": "4cb54a8d-6760-4df9-a655-50feebf0fe76",
   "metadata": {},
   "source": [
    "### Read review content"
   ]
  },
  {
   "cell_type": "code",
   "execution_count": 6,
   "id": "7f6a6c8f-2256-463a-9c6d-66dadfa59352",
   "metadata": {},
   "outputs": [
    {
     "data": {
      "text/html": [
       "<div>\n",
       "<style scoped>\n",
       "    .dataframe tbody tr th:only-of-type {\n",
       "        vertical-align: middle;\n",
       "    }\n",
       "\n",
       "    .dataframe tbody tr th {\n",
       "        vertical-align: top;\n",
       "    }\n",
       "\n",
       "    .dataframe thead th {\n",
       "        text-align: right;\n",
       "    }\n",
       "</style>\n",
       "<table border=\"1\" class=\"dataframe\">\n",
       "  <thead>\n",
       "    <tr style=\"text-align: right;\">\n",
       "      <th></th>\n",
       "      <th>user</th>\n",
       "      <th>product</th>\n",
       "      <th>date</th>\n",
       "      <th>content</th>\n",
       "    </tr>\n",
       "  </thead>\n",
       "  <tbody>\n",
       "    <tr>\n",
       "      <th>0</th>\n",
       "      <td>923</td>\n",
       "      <td>0</td>\n",
       "      <td>2014-12-08</td>\n",
       "      <td>The food at snack is a selection of popular Gr...</td>\n",
       "    </tr>\n",
       "    <tr>\n",
       "      <th>1</th>\n",
       "      <td>924</td>\n",
       "      <td>0</td>\n",
       "      <td>2013-05-16</td>\n",
       "      <td>This little place in Soho is wonderful. I had ...</td>\n",
       "    </tr>\n",
       "    <tr>\n",
       "      <th>2</th>\n",
       "      <td>925</td>\n",
       "      <td>0</td>\n",
       "      <td>2013-07-01</td>\n",
       "      <td>ordered lunch for 15 from Snack last Friday.  ...</td>\n",
       "    </tr>\n",
       "    <tr>\n",
       "      <th>3</th>\n",
       "      <td>926</td>\n",
       "      <td>0</td>\n",
       "      <td>2011-07-28</td>\n",
       "      <td>This is a beautiful quaint little restaurant o...</td>\n",
       "    </tr>\n",
       "    <tr>\n",
       "      <th>4</th>\n",
       "      <td>927</td>\n",
       "      <td>0</td>\n",
       "      <td>2010-11-01</td>\n",
       "      <td>Snack is great place for a  casual sit down lu...</td>\n",
       "    </tr>\n",
       "  </tbody>\n",
       "</table>\n",
       "</div>"
      ],
      "text/plain": [
       "   user  product        date  \\\n",
       "0   923        0  2014-12-08   \n",
       "1   924        0  2013-05-16   \n",
       "2   925        0  2013-07-01   \n",
       "3   926        0  2011-07-28   \n",
       "4   927        0  2010-11-01   \n",
       "\n",
       "                                             content  \n",
       "0  The food at snack is a selection of popular Gr...  \n",
       "1  This little place in Soho is wonderful. I had ...  \n",
       "2  ordered lunch for 15 from Snack last Friday.  ...  \n",
       "3  This is a beautiful quaint little restaurant o...  \n",
       "4  Snack is great place for a  casual sit down lu...  "
      ]
     },
     "execution_count": 6,
     "metadata": {},
     "output_type": "execute_result"
    }
   ],
   "source": [
    "# Read in review content\n",
    "df_content = pd.read_csv(\"../datasets/raw/{0}/reviewContent\".format(ds_name), sep=\"\\t\", header=None)\n",
    "df_content.columns = [\"user\", \"product\", \"date\", \"content\"]\n",
    "df_content.head()"
   ]
  },
  {
   "cell_type": "code",
   "execution_count": 7,
   "id": "39f5d2d2-f6b0-4d0d-8524-8b8a73f4530e",
   "metadata": {},
   "outputs": [
    {
     "name": "stdout",
     "output_type": "stream",
     "text": [
      "<class 'pandas.core.frame.DataFrame'>\n",
      "RangeIndex: 358957 entries, 0 to 358956\n",
      "Data columns (total 4 columns):\n",
      " #   Column   Non-Null Count   Dtype \n",
      "---  ------   --------------   ----- \n",
      " 0   user     358957 non-null  int64 \n",
      " 1   product  358957 non-null  int64 \n",
      " 2   date     358957 non-null  object\n",
      " 3   content  358957 non-null  object\n",
      "dtypes: int64(2), object(2)\n",
      "memory usage: 11.0+ MB\n"
     ]
    }
   ],
   "source": [
    "df_content.info()"
   ]
  },
  {
   "cell_type": "markdown",
   "id": "70b23726-6afd-4a4d-868a-0c5e9aac218a",
   "metadata": {},
   "source": [
    "### Map content with (user ID, product Id and date), then check if there is duplicates"
   ]
  },
  {
   "cell_type": "code",
   "execution_count": 8,
   "id": "7ffac401-df7e-4a17-b1d3-951cce552e10",
   "metadata": {},
   "outputs": [
    {
     "name": "stdout",
     "output_type": "stream",
     "text": [
      "Maximum number of review texts with the same user, product and date: 1\n"
     ]
    }
   ],
   "source": [
    "# Group by user, product, date\n",
    "# Aggregate content into lists\n",
    "content_mapping = list(df_content.groupby([\"user\", \"product\", \"date\"]).agg(list).to_dict().values())\n",
    "\n",
    "# Print max number of reviews per user/product/date  \n",
    "print(\n",
    "    \"Maximum number of review texts with the same user, product and date:\", \n",
    "    max(map(lambda it: max(map(len, it.values())), content_mapping)),\n",
    ")"
   ]
  },
  {
   "cell_type": "code",
   "execution_count": 9,
   "id": "b7511ac5-a89e-44a0-b946-10ccb558f264",
   "metadata": {},
   "outputs": [],
   "source": [
    "# Flatten content mapping dictionary\n",
    "content_mapping = {k: v[0] for it in content_mapping for k, v in it.items()}"
   ]
  },
  {
   "cell_type": "markdown",
   "id": "fea363e8-adca-4c88-8092-56283a493630",
   "metadata": {},
   "source": [
    "## Compose final review data "
   ]
  },
  {
   "cell_type": "markdown",
   "id": "205a90d8-1edc-475d-8b30-16814c3217b9",
   "metadata": {},
   "source": [
    "### Fill content with corresponding metadata to the final data"
   ]
  },
  {
   "cell_type": "code",
   "execution_count": 10,
   "id": "0771bdd4-fd71-473b-9e3f-3782bf1e300f",
   "metadata": {},
   "outputs": [
    {
     "name": "stderr",
     "output_type": "stream",
     "text": [
      "/var/folders/hy/zcys942x317fym_7kwj6pwbw0000gn/T/ipykernel_42579/1793092402.py:10: FutureWarning: Series.__getitem__ treating keys as positions is deprecated. In a future version, integer keys will always be treated as labels (consistent with DataFrame behavior). To access a value by position, use `ser.iloc[pos]`\n",
      "  lambda row: content_mapping[row[1], row[2], row[-1]] if (row[1], row[2], row[-1]) in content_mapping else np.nan,\n"
     ]
    },
    {
     "data": {
      "text/html": [
       "<div>\n",
       "<style scoped>\n",
       "    .dataframe tbody tr th:only-of-type {\n",
       "        vertical-align: middle;\n",
       "    }\n",
       "\n",
       "    .dataframe tbody tr th {\n",
       "        vertical-align: top;\n",
       "    }\n",
       "\n",
       "    .dataframe thead th {\n",
       "        text-align: right;\n",
       "    }\n",
       "</style>\n",
       "<table border=\"1\" class=\"dataframe\">\n",
       "  <thead>\n",
       "    <tr style=\"text-align: right;\">\n",
       "      <th></th>\n",
       "      <th>content</th>\n",
       "      <th>user</th>\n",
       "      <th>product</th>\n",
       "      <th>rating</th>\n",
       "      <th>label</th>\n",
       "      <th>date</th>\n",
       "    </tr>\n",
       "  </thead>\n",
       "  <tbody>\n",
       "    <tr>\n",
       "      <th>0</th>\n",
       "      <td>The food at snack is a selection of popular Gr...</td>\n",
       "      <td>923</td>\n",
       "      <td>0</td>\n",
       "      <td>3</td>\n",
       "      <td>fraud</td>\n",
       "      <td>2014-12-08</td>\n",
       "    </tr>\n",
       "    <tr>\n",
       "      <th>1</th>\n",
       "      <td>This little place in Soho is wonderful. I had ...</td>\n",
       "      <td>924</td>\n",
       "      <td>0</td>\n",
       "      <td>3</td>\n",
       "      <td>fraud</td>\n",
       "      <td>2013-05-16</td>\n",
       "    </tr>\n",
       "    <tr>\n",
       "      <th>2</th>\n",
       "      <td>ordered lunch for 15 from Snack last Friday.  ...</td>\n",
       "      <td>925</td>\n",
       "      <td>0</td>\n",
       "      <td>4</td>\n",
       "      <td>fraud</td>\n",
       "      <td>2013-07-01</td>\n",
       "    </tr>\n",
       "    <tr>\n",
       "      <th>3</th>\n",
       "      <td>This is a beautiful quaint little restaurant o...</td>\n",
       "      <td>926</td>\n",
       "      <td>0</td>\n",
       "      <td>4</td>\n",
       "      <td>fraud</td>\n",
       "      <td>2011-07-28</td>\n",
       "    </tr>\n",
       "    <tr>\n",
       "      <th>4</th>\n",
       "      <td>Snack is great place for a  casual sit down lu...</td>\n",
       "      <td>927</td>\n",
       "      <td>0</td>\n",
       "      <td>4</td>\n",
       "      <td>fraud</td>\n",
       "      <td>2010-11-01</td>\n",
       "    </tr>\n",
       "  </tbody>\n",
       "</table>\n",
       "</div>"
      ],
      "text/plain": [
       "                                             content  user  product  rating  \\\n",
       "0  The food at snack is a selection of popular Gr...   923        0       3   \n",
       "1  This little place in Soho is wonderful. I had ...   924        0       3   \n",
       "2  ordered lunch for 15 from Snack last Friday.  ...   925        0       4   \n",
       "3  This is a beautiful quaint little restaurant o...   926        0       4   \n",
       "4  Snack is great place for a  casual sit down lu...   927        0       4   \n",
       "\n",
       "   label        date  \n",
       "0  fraud  2014-12-08  \n",
       "1  fraud  2013-05-16  \n",
       "2  fraud  2013-07-01  \n",
       "3  fraud  2011-07-28  \n",
       "4  fraud  2010-11-01  "
      ]
     },
     "execution_count": 10,
     "metadata": {},
     "output_type": "execute_result"
    }
   ],
   "source": [
    "# Copy metadata dataframe\n",
    "df_review = df_meta.copy()  \n",
    "\n",
    "# Add content column filled with NaNs\n",
    "df_review[\"content\"] = np.nan\n",
    "df_review = df_review[[\"content\", *df_meta.columns]]\n",
    "\n",
    "# Fill content by merging \n",
    "df_review.content = df_review.apply(\n",
    "    lambda row: content_mapping[row[1], row[2], row[-1]] if (row[1], row[2], row[-1]) in content_mapping else np.nan,\n",
    "    axis=1, \n",
    ")\n",
    "df_review.head()"
   ]
  },
  {
   "cell_type": "markdown",
   "id": "7adc717d-82a2-4170-9a55-2e60ecd4f608",
   "metadata": {},
   "source": [
    "### Drop NaN data (if yes)"
   ]
  },
  {
   "cell_type": "code",
   "execution_count": 11,
   "id": "62c75348-e7f0-46e5-bc5f-441fcef19daf",
   "metadata": {},
   "outputs": [],
   "source": [
    "# Drop missing rows\n",
    "df_review = df_review.dropna()"
   ]
  },
  {
   "cell_type": "markdown",
   "id": "0e4d15e9-c0c2-4e92-8938-56c4d02376cd",
   "metadata": {},
   "source": [
    "### Re-mapping User / Product ID"
   ]
  },
  {
   "cell_type": "code",
   "execution_count": 12,
   "id": "c91e0e19-c966-4329-9012-5ad3b57a89dc",
   "metadata": {},
   "outputs": [
    {
     "data": {
      "text/html": [
       "<div>\n",
       "<style scoped>\n",
       "    .dataframe tbody tr th:only-of-type {\n",
       "        vertical-align: middle;\n",
       "    }\n",
       "\n",
       "    .dataframe tbody tr th {\n",
       "        vertical-align: top;\n",
       "    }\n",
       "\n",
       "    .dataframe thead th {\n",
       "        text-align: right;\n",
       "    }\n",
       "</style>\n",
       "<table border=\"1\" class=\"dataframe\">\n",
       "  <thead>\n",
       "    <tr style=\"text-align: right;\">\n",
       "      <th></th>\n",
       "      <th>content</th>\n",
       "      <th>user</th>\n",
       "      <th>product</th>\n",
       "      <th>rating</th>\n",
       "      <th>label</th>\n",
       "      <th>date</th>\n",
       "    </tr>\n",
       "  </thead>\n",
       "  <tbody>\n",
       "    <tr>\n",
       "      <th>0</th>\n",
       "      <td>The food at snack is a selection of popular Gr...</td>\n",
       "      <td>yelpnyc_user_000000</td>\n",
       "      <td>yelpnyc_product_000</td>\n",
       "      <td>3</td>\n",
       "      <td>fraud</td>\n",
       "      <td>2014-12-08</td>\n",
       "    </tr>\n",
       "    <tr>\n",
       "      <th>1</th>\n",
       "      <td>This little place in Soho is wonderful. I had ...</td>\n",
       "      <td>yelpnyc_user_000001</td>\n",
       "      <td>yelpnyc_product_000</td>\n",
       "      <td>3</td>\n",
       "      <td>fraud</td>\n",
       "      <td>2013-05-16</td>\n",
       "    </tr>\n",
       "    <tr>\n",
       "      <th>2</th>\n",
       "      <td>ordered lunch for 15 from Snack last Friday.  ...</td>\n",
       "      <td>yelpnyc_user_000002</td>\n",
       "      <td>yelpnyc_product_000</td>\n",
       "      <td>4</td>\n",
       "      <td>fraud</td>\n",
       "      <td>2013-07-01</td>\n",
       "    </tr>\n",
       "    <tr>\n",
       "      <th>3</th>\n",
       "      <td>This is a beautiful quaint little restaurant o...</td>\n",
       "      <td>yelpnyc_user_000003</td>\n",
       "      <td>yelpnyc_product_000</td>\n",
       "      <td>4</td>\n",
       "      <td>fraud</td>\n",
       "      <td>2011-07-28</td>\n",
       "    </tr>\n",
       "    <tr>\n",
       "      <th>4</th>\n",
       "      <td>Snack is great place for a  casual sit down lu...</td>\n",
       "      <td>yelpnyc_user_000004</td>\n",
       "      <td>yelpnyc_product_000</td>\n",
       "      <td>4</td>\n",
       "      <td>fraud</td>\n",
       "      <td>2010-11-01</td>\n",
       "    </tr>\n",
       "  </tbody>\n",
       "</table>\n",
       "</div>"
      ],
      "text/plain": [
       "                                             content                 user  \\\n",
       "0  The food at snack is a selection of popular Gr...  yelpnyc_user_000000   \n",
       "1  This little place in Soho is wonderful. I had ...  yelpnyc_user_000001   \n",
       "2  ordered lunch for 15 from Snack last Friday.  ...  yelpnyc_user_000002   \n",
       "3  This is a beautiful quaint little restaurant o...  yelpnyc_user_000003   \n",
       "4  Snack is great place for a  casual sit down lu...  yelpnyc_user_000004   \n",
       "\n",
       "               product  rating  label        date  \n",
       "0  yelpnyc_product_000       3  fraud  2014-12-08  \n",
       "1  yelpnyc_product_000       3  fraud  2013-05-16  \n",
       "2  yelpnyc_product_000       4  fraud  2013-07-01  \n",
       "3  yelpnyc_product_000       4  fraud  2011-07-28  \n",
       "4  yelpnyc_product_000       4  fraud  2010-11-01  "
      ]
     },
     "execution_count": 12,
     "metadata": {},
     "output_type": "execute_result"
    }
   ],
   "source": [
    "max_user_idx_length = len(str(df_review[\"user\"].nunique()))\n",
    "max_product_idx_length = len(str(df_review[\"product\"].nunique()))\n",
    "\n",
    "user_mapping = {\n",
    "    user: \"{}_user_{}\".format(ds_name.lower(), str.zfill(str(idx), max_user_idx_length))\n",
    "    for idx, user in enumerate(df_review[\"user\"].unique())\n",
    "}\n",
    "product_mapping = {\n",
    "    product: \"{}_product_{}\".format(ds_name.lower(), str.zfill(str(idx), max_product_idx_length))\n",
    "    for idx, product in enumerate(df_review[\"product\"].unique())\n",
    "}\n",
    "\n",
    "df_review[\"user\"] = df_review[\"user\"].apply(user_mapping.get)\n",
    "df_review[\"product\"] = df_review[\"product\"].apply(product_mapping.get)\n",
    "df_review.head()"
   ]
  },
  {
   "cell_type": "markdown",
   "id": "30aea200-b551-4095-bd13-31a65183e94a",
   "metadata": {},
   "source": [
    "## Export final data"
   ]
  },
  {
   "cell_type": "code",
   "execution_count": 13,
   "id": "50ea0b1e-0701-418a-acc4-f7470c182410",
   "metadata": {},
   "outputs": [
    {
     "name": "stdout",
     "output_type": "stream",
     "text": [
      "<class 'pandas.core.frame.DataFrame'>\n",
      "Index: 358957 entries, 0 to 359051\n",
      "Data columns (total 6 columns):\n",
      " #   Column   Non-Null Count   Dtype \n",
      "---  ------   --------------   ----- \n",
      " 0   content  358957 non-null  object\n",
      " 1   user     358957 non-null  object\n",
      " 2   product  358957 non-null  object\n",
      " 3   rating   358957 non-null  int64 \n",
      " 4   label    358957 non-null  object\n",
      " 5   date     358957 non-null  object\n",
      "dtypes: int64(1), object(5)\n",
      "memory usage: 19.2+ MB\n"
     ]
    }
   ],
   "source": [
    "# Print out DataFrame info to validate \n",
    "df_review.info()"
   ]
  },
  {
   "cell_type": "code",
   "execution_count": 14,
   "id": "e3697eab-26a6-46ca-9ff1-bdbb64b5fa0c",
   "metadata": {},
   "outputs": [],
   "source": [
    "# Export cleaned DataFrame to a CSV file\n",
    "df_review.to_csv(\"../datasets/processed/{0}_reviews_preprocessed.csv\".format(ds_name.lower()), index=False)"
   ]
  },
  {
   "cell_type": "code",
   "execution_count": null,
   "id": "da8f3a66",
   "metadata": {},
   "outputs": [],
   "source": []
  }
 ],
 "metadata": {
  "kernelspec": {
   "display_name": "Python 3 (ipykernel)",
   "language": "python",
   "name": "python3"
  },
  "language_info": {
   "codemirror_mode": {
    "name": "ipython",
    "version": 3
   },
   "file_extension": ".py",
   "mimetype": "text/x-python",
   "name": "python",
   "nbconvert_exporter": "python",
   "pygments_lexer": "ipython3",
   "version": "3.9.15"
  },
  "latex_envs": {
   "LaTeX_envs_menu_present": true,
   "autoclose": false,
   "autocomplete": true,
   "bibliofile": "biblio.bib",
   "cite_by": "apalike",
   "current_citInitial": 1,
   "eqLabelWithNumbers": true,
   "eqNumInitial": 1,
   "hotkeys": {
    "equation": "Ctrl-E",
    "itemize": "Ctrl-I"
   },
   "labels_anchors": false,
   "latex_user_defs": false,
   "report_style_numbering": false,
   "user_envs_cfg": false
  },
  "nbTranslate": {
   "displayLangs": [
    "*"
   ],
   "hotkey": "alt-t",
   "langInMainMenu": true,
   "sourceLang": "en",
   "targetLang": "fr",
   "useGoogleTranslate": true
  }
 },
 "nbformat": 4,
 "nbformat_minor": 5
}
