{
 "cells": [
  {
   "cell_type": "markdown",
   "id": "a86ae137",
   "metadata": {},
   "source": [
    "# Preprocessing YelpChi"
   ]
  },
  {
   "cell_type": "markdown",
   "id": "baa88f0e-1602-45dc-ad5c-e9d61f6621c6",
   "metadata": {},
   "source": [
    "## Import libraries"
   ]
  },
  {
   "cell_type": "code",
   "execution_count": 1,
   "id": "8eb10849-ad07-445c-a27c-76a625f0efb8",
   "metadata": {
    "ExecuteTime": {
     "end_time": "2024-01-08T06:59:27.756892Z",
     "start_time": "2024-01-08T06:59:27.126223Z"
    }
   },
   "outputs": [],
   "source": [
    "# Import libraries\n",
    "import numpy as np # For numerical processing\n",
    "import pandas as pd # For dataframe processing\n",
    "from datetime import datetime # For date processing\n",
    "from tqdm import tqdm"
   ]
  },
  {
   "cell_type": "markdown",
   "id": "5521af2a-6301-4bbd-8e69-7b0fde09fdf2",
   "metadata": {},
   "source": [
    "## Load data"
   ]
  },
  {
   "cell_type": "markdown",
   "id": "28122c5e",
   "metadata": {},
   "source": [
    "### Review content data"
   ]
  },
  {
   "cell_type": "code",
   "execution_count": 2,
   "id": "d9ea2fa2-f8fd-4f69-a3ab-32ef72a0e68a",
   "metadata": {},
   "outputs": [],
   "source": [
    "# Load review content data from two text files into numpy arrays\n",
    "review_content_sets = [\n",
    "    np.genfromtxt(\"../datasets/raw/YelpChi/output_review_yelpHotelData_NRYRcleaned.txt\", dtype=str, delimiter=\"\\n\"), \n",
    "    np.genfromtxt(\"../datasets/raw/YelpChi/output_review_yelpResData_NRYRcleaned.txt\", dtype=str, delimiter=\"\\n\"),\n",
    "]"
   ]
  },
  {
   "cell_type": "markdown",
   "id": "d2edc476",
   "metadata": {},
   "source": [
    "### Review metadata"
   ]
  },
  {
   "cell_type": "code",
   "execution_count": 3,
   "id": "95f0f06d",
   "metadata": {},
   "outputs": [],
   "source": [
    "# Load review metadata from two CSV files into pandas DataFrames\n",
    "review_metadata_sets = [\n",
    "    pd.read_csv(\"../datasets/raw/YelpChi/output_meta_yelpHotelData_NRYRcleaned.txt\", header=None, sep=\" \"), \n",
    "    pd.read_csv(\"../datasets/raw/YelpChi/output_meta_yelpResData_NRYRcleaned.txt\", header=None, sep=\" \"),\n",
    "]"
   ]
  },
  {
   "cell_type": "markdown",
   "id": "ca57c444",
   "metadata": {},
   "source": [
    "## Compose final data"
   ]
  },
  {
   "cell_type": "markdown",
   "id": "386732e3",
   "metadata": {},
   "source": [
    "### Merge review content with metadata ### Join content and metadata"
   ]
  },
  {
   "cell_type": "code",
   "execution_count": 4,
   "id": "67f04a28",
   "metadata": {},
   "outputs": [],
   "source": [
    "# Enumerate creates an iterator that yields pairs (index, element) from the review_metadata_sets list\n",
    "# So it will return (0, first_df), (1, second_df) etc.\n",
    "\n",
    "# The map call applies the lambda function to each element in the enumerated list\n",
    "# The lambda function:\n",
    "    # it[0] is the index\n",
    "    # it[1] is the DataFrame  \n",
    "    # We take first len(review_content_sets[index]) rows of the DataFrame (to match content length)\n",
    "\n",
    "# So this maps each metadata DataFrame to a truncated version \n",
    "# with only as many rows as the corresponding content DataFrame\n",
    "\n",
    "# We convert the map output to a list to enable concatenation\n",
    "\n",
    "# pd.concat concatenates multiple DataFrames together, ignoring the indexes\n",
    "# By passing ignore_index=True, it will create a new sequential index\n",
    "# So we end up with a single DataFrame containing all metadata rows  \n",
    "# with indices matching the content rows\n",
    "\n",
    "df_review = pd.concat(\n",
    "    list(map(lambda it: it[1].head(len(review_content_sets[it[0]])), enumerate(review_metadata_sets))),\n",
    "    ignore_index=True, \n",
    ")\n",
    "\n",
    "# Keep only the relevant columns\n",
    "df_review = df_review[[0, 2, 3, 4, 8]] \n",
    "# Rename columns\n",
    "df_review.columns = [\n",
    "    \"date\", \"user\", \"product\", \"label\", \"rating\", \n",
    "]"
   ]
  },
  {
   "cell_type": "markdown",
   "id": "6ee76edc-cc53-4b35-8216-8b4b758869fb",
   "metadata": {},
   "source": [
    "### Re-mapping user / product ID"
   ]
  },
  {
   "cell_type": "code",
   "execution_count": 5,
   "id": "86172480-ae94-4c4d-ad98-a8987483780b",
   "metadata": {},
   "outputs": [],
   "source": [
    "# Map user IDs to 0..N integer range\n",
    "df_review[\"user\"] = df_review[\"user\"].apply(\n",
    "    {user: idx for idx, user in enumerate(df_review[\"user\"].unique())}.get\n",
    ")\n",
    "# Map product IDs to 0..N integer range\n",
    "df_review[\"product\"] = df_review[\"product\"].apply(\n",
    "    {product: idx for idx, product in enumerate(df_review[\"product\"].unique())}.get\n",
    ")"
   ]
  },
  {
   "cell_type": "code",
   "execution_count": 6,
   "id": "783cf345-aee5-4cbd-8456-571a2b4ebd85",
   "metadata": {},
   "outputs": [
    {
     "data": {
      "text/html": [
       "<div>\n",
       "<style scoped>\n",
       "    .dataframe tbody tr th:only-of-type {\n",
       "        vertical-align: middle;\n",
       "    }\n",
       "\n",
       "    .dataframe tbody tr th {\n",
       "        vertical-align: top;\n",
       "    }\n",
       "\n",
       "    .dataframe thead th {\n",
       "        text-align: right;\n",
       "    }\n",
       "</style>\n",
       "<table border=\"1\" class=\"dataframe\">\n",
       "  <thead>\n",
       "    <tr style=\"text-align: right;\">\n",
       "      <th></th>\n",
       "      <th>date</th>\n",
       "      <th>user</th>\n",
       "      <th>product</th>\n",
       "      <th>label</th>\n",
       "      <th>rating</th>\n",
       "    </tr>\n",
       "  </thead>\n",
       "  <tbody>\n",
       "    <tr>\n",
       "      <th>0</th>\n",
       "      <td>6/8/2011</td>\n",
       "      <td>yelpchi_user_00000</td>\n",
       "      <td>yelpchi_product_000</td>\n",
       "      <td>N</td>\n",
       "      <td>5</td>\n",
       "    </tr>\n",
       "    <tr>\n",
       "      <th>1</th>\n",
       "      <td>8/30/2011</td>\n",
       "      <td>yelpchi_user_00001</td>\n",
       "      <td>yelpchi_product_000</td>\n",
       "      <td>N</td>\n",
       "      <td>3</td>\n",
       "    </tr>\n",
       "    <tr>\n",
       "      <th>2</th>\n",
       "      <td>6/26/2009</td>\n",
       "      <td>yelpchi_user_00002</td>\n",
       "      <td>yelpchi_product_000</td>\n",
       "      <td>N</td>\n",
       "      <td>5</td>\n",
       "    </tr>\n",
       "    <tr>\n",
       "      <th>3</th>\n",
       "      <td>9/16/2010</td>\n",
       "      <td>yelpchi_user_00003</td>\n",
       "      <td>yelpchi_product_000</td>\n",
       "      <td>N</td>\n",
       "      <td>1</td>\n",
       "    </tr>\n",
       "    <tr>\n",
       "      <th>4</th>\n",
       "      <td>2/5/2010</td>\n",
       "      <td>yelpchi_user_00004</td>\n",
       "      <td>yelpchi_product_000</td>\n",
       "      <td>N</td>\n",
       "      <td>3</td>\n",
       "    </tr>\n",
       "  </tbody>\n",
       "</table>\n",
       "</div>"
      ],
      "text/plain": [
       "        date                user              product label  rating\n",
       "0   6/8/2011  yelpchi_user_00000  yelpchi_product_000     N       5\n",
       "1  8/30/2011  yelpchi_user_00001  yelpchi_product_000     N       3\n",
       "2  6/26/2009  yelpchi_user_00002  yelpchi_product_000     N       5\n",
       "3  9/16/2010  yelpchi_user_00003  yelpchi_product_000     N       1\n",
       "4   2/5/2010  yelpchi_user_00004  yelpchi_product_000     N       3"
      ]
     },
     "execution_count": 6,
     "metadata": {},
     "output_type": "execute_result"
    }
   ],
   "source": [
    "max_user_idx_length = len(str(df_review[\"user\"].max()))\n",
    "max_product_idx_length = len(str(df_review[\"product\"].max()))\n",
    "\n",
    "df_review[\"user\"] = df_review[\"user\"].apply({\n",
    "    user: \"yelpchi_user_{}\".format(str.zfill(str(idx), max_user_idx_length))\n",
    "    for idx, user in enumerate(df_review[\"user\"].unique())\n",
    "}.get)\n",
    "df_review[\"product\"] = df_review[\"product\"].apply({\n",
    "    product: \"yelpchi_product_{}\".format(str.zfill(str(idx), max_product_idx_length))\n",
    "    for idx, product in enumerate(df_review[\"product\"].unique())\n",
    "}.get)\n",
    "\n",
    "df_review.head()"
   ]
  },
  {
   "cell_type": "markdown",
   "id": "a5fde065-417f-44e0-b117-401620652c5d",
   "metadata": {},
   "source": [
    "### Normalize data"
   ]
  },
  {
   "cell_type": "code",
   "execution_count": 7,
   "id": "d30ea7d4-7323-4f4d-9bd7-11a00d2500b1",
   "metadata": {},
   "outputs": [
    {
     "data": {
      "text/html": [
       "<div>\n",
       "<style scoped>\n",
       "    .dataframe tbody tr th:only-of-type {\n",
       "        vertical-align: middle;\n",
       "    }\n",
       "\n",
       "    .dataframe tbody tr th {\n",
       "        vertical-align: top;\n",
       "    }\n",
       "\n",
       "    .dataframe thead th {\n",
       "        text-align: right;\n",
       "    }\n",
       "</style>\n",
       "<table border=\"1\" class=\"dataframe\">\n",
       "  <thead>\n",
       "    <tr style=\"text-align: right;\">\n",
       "      <th></th>\n",
       "      <th>user</th>\n",
       "      <th>product</th>\n",
       "      <th>rating</th>\n",
       "      <th>label</th>\n",
       "      <th>date</th>\n",
       "      <th>content</th>\n",
       "    </tr>\n",
       "  </thead>\n",
       "  <tbody>\n",
       "    <tr>\n",
       "      <th>0</th>\n",
       "      <td>yelpchi_user_00000</td>\n",
       "      <td>yelpchi_product_000</td>\n",
       "      <td>5</td>\n",
       "      <td>organic</td>\n",
       "      <td>2011-06-08</td>\n",
       "      <td>Let me begin by saying that there are two kind...</td>\n",
       "    </tr>\n",
       "    <tr>\n",
       "      <th>1</th>\n",
       "      <td>yelpchi_user_00001</td>\n",
       "      <td>yelpchi_product_000</td>\n",
       "      <td>3</td>\n",
       "      <td>organic</td>\n",
       "      <td>2011-08-30</td>\n",
       "      <td>The only place inside the Loop that you can st...</td>\n",
       "    </tr>\n",
       "    <tr>\n",
       "      <th>2</th>\n",
       "      <td>yelpchi_user_00002</td>\n",
       "      <td>yelpchi_product_000</td>\n",
       "      <td>5</td>\n",
       "      <td>organic</td>\n",
       "      <td>2009-06-26</td>\n",
       "      <td>I have walked by the Tokyo Hotel countless tim...</td>\n",
       "    </tr>\n",
       "    <tr>\n",
       "      <th>3</th>\n",
       "      <td>yelpchi_user_00003</td>\n",
       "      <td>yelpchi_product_000</td>\n",
       "      <td>1</td>\n",
       "      <td>organic</td>\n",
       "      <td>2010-09-16</td>\n",
       "      <td>If you are considering staying here, watch thi...</td>\n",
       "    </tr>\n",
       "    <tr>\n",
       "      <th>4</th>\n",
       "      <td>yelpchi_user_00004</td>\n",
       "      <td>yelpchi_product_000</td>\n",
       "      <td>3</td>\n",
       "      <td>organic</td>\n",
       "      <td>2010-02-05</td>\n",
       "      <td>This place is disgusting, absolutely horrible,...</td>\n",
       "    </tr>\n",
       "  </tbody>\n",
       "</table>\n",
       "</div>"
      ],
      "text/plain": [
       "                 user              product  rating    label        date  \\\n",
       "0  yelpchi_user_00000  yelpchi_product_000       5  organic  2011-06-08   \n",
       "1  yelpchi_user_00001  yelpchi_product_000       3  organic  2011-08-30   \n",
       "2  yelpchi_user_00002  yelpchi_product_000       5  organic  2009-06-26   \n",
       "3  yelpchi_user_00003  yelpchi_product_000       1  organic  2010-09-16   \n",
       "4  yelpchi_user_00004  yelpchi_product_000       3  organic  2010-02-05   \n",
       "\n",
       "                                             content  \n",
       "0  Let me begin by saying that there are two kind...  \n",
       "1  The only place inside the Loop that you can st...  \n",
       "2  I have walked by the Tokyo Hotel countless tim...  \n",
       "3  If you are considering staying here, watch thi...  \n",
       "4  This place is disgusting, absolutely horrible,...  "
      ]
     },
     "metadata": {},
     "output_type": "display_data"
    }
   ],
   "source": [
    "# Convert date strings to Python date objects\n",
    "df_review.date = df_review.date.apply(\n",
    "    lambda value: str(datetime.strptime(value, \"%m/%d/%Y\").date()),\n",
    ")\n",
    "# Concatenate review content arrays into one array\n",
    "df_review[\"content\"] = np.concatenate(review_content_sets)\n",
    "# Reorder columns\n",
    "df_review = df_review[[\"user\", \"product\", \"rating\", \"label\", \"date\", \"content\"]]\n",
    "# Map fraud label values to unified \"fraud\" value   \n",
    "df_review.label = df_review.label.apply(lambda label: \"fraud\" if label == \"Y\" else \"organic\") \n",
    "# Display first 5 rows\n",
    "display(df_review.head())"
   ]
  },
  {
   "cell_type": "markdown",
   "id": "76b05b96",
   "metadata": {},
   "source": [
    "### Drop missing data (if yes) and checkout"
   ]
  },
  {
   "cell_type": "code",
   "execution_count": 8,
   "id": "c049af37-a464-4196-8922-802dac756ac6",
   "metadata": {},
   "outputs": [
    {
     "name": "stdout",
     "output_type": "stream",
     "text": [
      "<class 'pandas.core.frame.DataFrame'>\n",
      "RangeIndex: 67385 entries, 0 to 67384\n",
      "Data columns (total 6 columns):\n",
      " #   Column   Non-Null Count  Dtype \n",
      "---  ------   --------------  ----- \n",
      " 0   user     67385 non-null  object\n",
      " 1   product  67385 non-null  object\n",
      " 2   rating   67385 non-null  int64 \n",
      " 3   label    67385 non-null  object\n",
      " 4   date     67385 non-null  object\n",
      " 5   content  67385 non-null  object\n",
      "dtypes: int64(1), object(5)\n",
      "memory usage: 3.1+ MB\n"
     ]
    }
   ],
   "source": [
    "# Drop missing rows\n",
    "df_review = df_review.dropna()\n",
    "# Print out DataFrame info to validate \n",
    "df_review.info()"
   ]
  },
  {
   "cell_type": "markdown",
   "id": "986fa81e-31b6-404c-8e0f-b088475bee72",
   "metadata": {},
   "source": [
    "## Export final data"
   ]
  },
  {
   "cell_type": "code",
   "execution_count": 9,
   "id": "7fa974ea-2f0f-4347-8342-a42a1710138b",
   "metadata": {},
   "outputs": [],
   "source": [
    "# Export cleaned DataFrame to a CSV file\n",
    "df_review.to_csv(\"../datasets/processed/yelpchi_reviews_preprocessed.csv\", index=False)"
   ]
  },
  {
   "cell_type": "code",
   "execution_count": null,
   "id": "05a17bde-4d2e-4862-a549-e40fdfab23d5",
   "metadata": {},
   "outputs": [],
   "source": []
  }
 ],
 "metadata": {
  "kernelspec": {
   "display_name": "Python 3 (ipykernel)",
   "language": "python",
   "name": "python3"
  },
  "language_info": {
   "codemirror_mode": {
    "name": "ipython",
    "version": 3
   },
   "file_extension": ".py",
   "mimetype": "text/x-python",
   "name": "python",
   "nbconvert_exporter": "python",
   "pygments_lexer": "ipython3",
   "version": "3.9.15"
  },
  "latex_envs": {
   "LaTeX_envs_menu_present": true,
   "autoclose": false,
   "autocomplete": true,
   "bibliofile": "biblio.bib",
   "cite_by": "apalike",
   "current_citInitial": 1,
   "eqLabelWithNumbers": true,
   "eqNumInitial": 1,
   "hotkeys": {
    "equation": "Ctrl-E",
    "itemize": "Ctrl-I"
   },
   "labels_anchors": false,
   "latex_user_defs": false,
   "report_style_numbering": false,
   "user_envs_cfg": false
  },
  "nbTranslate": {
   "displayLangs": [
    "*"
   ],
   "hotkey": "alt-t",
   "langInMainMenu": true,
   "sourceLang": "en",
   "targetLang": "fr",
   "useGoogleTranslate": true
  }
 },
 "nbformat": 4,
 "nbformat_minor": 5
}
